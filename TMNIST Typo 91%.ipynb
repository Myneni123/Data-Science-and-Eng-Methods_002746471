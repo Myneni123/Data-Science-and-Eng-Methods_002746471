{
  "nbformat": 4,
  "nbformat_minor": 0,
  "metadata": {
    "colab": {
      "provenance": []
    },
    "kernelspec": {
      "name": "python3",
      "display_name": "Python 3"
    },
    "language_info": {
      "name": "python"
    }
  },
  "cells": [
    {
      "cell_type": "markdown",
      "source": [
        "##TMINST character recognition\n",
        "(95% Accurate)"
      ],
      "metadata": {
        "id": "06XeyEv3u3d4"
      }
    },
    {
      "cell_type": "markdown",
      "source": [
        "##ABSTRACT\n",
        "\n",
        "\n",
        "This notebook describes many ways for building neural networks that recognize digits on the MNIST dataset. Most deep learning frameworks include APIs for importing well-known datasets such as MNIST (for example, torchvision.datasets.MNIST in Pytorch). The APIs are useful, but they obscure an essential step in preparing training data for a deep learning framework: when transitioning from an example dataset to actual data, we must convert a training data of interest into a data structure that a deep learning framework accepts."
      ],
      "metadata": {
        "id": "1ZEiylFLusmD"
      }
    },
    {
      "cell_type": "markdown",
      "source": [
        "##Neural Network CNN Model Definition\n",
        "\n",
        "In this notebook, the aim is to classify the images from TMNIST dataset using Convolutional Neural Network approach (CNN). **I will be using a deep learning algorithm, Convolutional Neural Networks (CNNs) with a functional model. It is one of the best architectures that is being widely used for classifying images. The reason for using a functional model is to maintain easiness while connecting the layers. Convolutional Neural Networks (CNNs) is one of the best architectures that is being used widely for classifying images. CNNs are used for pattern matching or image detection everywhere in several fields like facial recognition, self-driving cars, object detection, fashion etc. For this project, I will be designing a 2-D Convolutional Neural Network model using keras with tensorflow backend for MNIST digit recognition task. The workflow will look like\n",
        "\n",
        "Preparing the dataset to work on\n",
        "\n",
        "Building and compilation of the model\n",
        "\n",
        "Training and evaluating the model**\n",
        "\n",
        "The model has two main aspects which are the feature extraction front end comprised of convolutional and pooling layers and the classifier backend that will make a prediction. For a better understanding, model architecture that may be followed here is 2 convolution layers followed by pooling layer, a fully connected layer and softmax layer respectively. Multiple filters are used at each convolution layer, for different types of feature extraction. One intuitive explanation can be if first filter helps in detecting the straight lines in the image, second filter will help in detecting circles and so on."
      ],
      "metadata": {
        "id": "bbEus3673x-z"
      }
    },
    {
      "cell_type": "code",
      "execution_count": 12,
      "metadata": {
        "id": "pDcBrGe6FrKs"
      },
      "outputs": [],
      "source": [
        "#importing the libraries\n",
        "import tensorflow as tf \n",
        "from tensorflow.keras.models import Sequential\n",
        "from tensorflow.keras.layers import Dense, Conv2D, Flatten, MaxPooling2D\n",
        "from tensorflow.keras.utils import to_categorical\n",
        "\n",
        "from sklearn.model_selection import train_test_split\n",
        "from sklearn.preprocessing import LabelBinarizer\n",
        "from sklearn.utils import shuffle\n",
        "from tensorflow.keras.optimizers import Adam\n",
        "from sklearn.preprocessing import OneHotEncoder\n",
        "\n",
        "import matplotlib.pyplot as plt\n",
        "%matplotlib inline\n",
        "import numpy as np\n",
        "import pandas as pd \n",
        "import warnings\n",
        "warnings.filterwarnings(\"ignore\")"
      ]
    },
    {
      "cell_type": "code",
      "source": [
        "#making a directory for kaggle api\n",
        "\n",
        "from google.colab import files\n",
        "files.upload()"
      ],
      "metadata": {
        "colab": {
          "base_uri": "https://localhost:8080/",
          "height": 92
        },
        "id": "AUs_mWpiGKpK",
        "outputId": "a84c7d87-6b1a-46ba-c6fe-05761b2c29e4"
      },
      "execution_count": 7,
      "outputs": [
        {
          "output_type": "display_data",
          "data": {
            "text/plain": [
              "<IPython.core.display.HTML object>"
            ],
            "text/html": [
              "\n",
              "     <input type=\"file\" id=\"files-f0397cea-5f23-4a60-9350-ce8993f50759\" name=\"files[]\" multiple disabled\n",
              "        style=\"border:none\" />\n",
              "     <output id=\"result-f0397cea-5f23-4a60-9350-ce8993f50759\">\n",
              "      Upload widget is only available when the cell has been executed in the\n",
              "      current browser session. Please rerun this cell to enable.\n",
              "      </output>\n",
              "      <script>// Copyright 2017 Google LLC\n",
              "//\n",
              "// Licensed under the Apache License, Version 2.0 (the \"License\");\n",
              "// you may not use this file except in compliance with the License.\n",
              "// You may obtain a copy of the License at\n",
              "//\n",
              "//      http://www.apache.org/licenses/LICENSE-2.0\n",
              "//\n",
              "// Unless required by applicable law or agreed to in writing, software\n",
              "// distributed under the License is distributed on an \"AS IS\" BASIS,\n",
              "// WITHOUT WARRANTIES OR CONDITIONS OF ANY KIND, either express or implied.\n",
              "// See the License for the specific language governing permissions and\n",
              "// limitations under the License.\n",
              "\n",
              "/**\n",
              " * @fileoverview Helpers for google.colab Python module.\n",
              " */\n",
              "(function(scope) {\n",
              "function span(text, styleAttributes = {}) {\n",
              "  const element = document.createElement('span');\n",
              "  element.textContent = text;\n",
              "  for (const key of Object.keys(styleAttributes)) {\n",
              "    element.style[key] = styleAttributes[key];\n",
              "  }\n",
              "  return element;\n",
              "}\n",
              "\n",
              "// Max number of bytes which will be uploaded at a time.\n",
              "const MAX_PAYLOAD_SIZE = 100 * 1024;\n",
              "\n",
              "function _uploadFiles(inputId, outputId) {\n",
              "  const steps = uploadFilesStep(inputId, outputId);\n",
              "  const outputElement = document.getElementById(outputId);\n",
              "  // Cache steps on the outputElement to make it available for the next call\n",
              "  // to uploadFilesContinue from Python.\n",
              "  outputElement.steps = steps;\n",
              "\n",
              "  return _uploadFilesContinue(outputId);\n",
              "}\n",
              "\n",
              "// This is roughly an async generator (not supported in the browser yet),\n",
              "// where there are multiple asynchronous steps and the Python side is going\n",
              "// to poll for completion of each step.\n",
              "// This uses a Promise to block the python side on completion of each step,\n",
              "// then passes the result of the previous step as the input to the next step.\n",
              "function _uploadFilesContinue(outputId) {\n",
              "  const outputElement = document.getElementById(outputId);\n",
              "  const steps = outputElement.steps;\n",
              "\n",
              "  const next = steps.next(outputElement.lastPromiseValue);\n",
              "  return Promise.resolve(next.value.promise).then((value) => {\n",
              "    // Cache the last promise value to make it available to the next\n",
              "    // step of the generator.\n",
              "    outputElement.lastPromiseValue = value;\n",
              "    return next.value.response;\n",
              "  });\n",
              "}\n",
              "\n",
              "/**\n",
              " * Generator function which is called between each async step of the upload\n",
              " * process.\n",
              " * @param {string} inputId Element ID of the input file picker element.\n",
              " * @param {string} outputId Element ID of the output display.\n",
              " * @return {!Iterable<!Object>} Iterable of next steps.\n",
              " */\n",
              "function* uploadFilesStep(inputId, outputId) {\n",
              "  const inputElement = document.getElementById(inputId);\n",
              "  inputElement.disabled = false;\n",
              "\n",
              "  const outputElement = document.getElementById(outputId);\n",
              "  outputElement.innerHTML = '';\n",
              "\n",
              "  const pickedPromise = new Promise((resolve) => {\n",
              "    inputElement.addEventListener('change', (e) => {\n",
              "      resolve(e.target.files);\n",
              "    });\n",
              "  });\n",
              "\n",
              "  const cancel = document.createElement('button');\n",
              "  inputElement.parentElement.appendChild(cancel);\n",
              "  cancel.textContent = 'Cancel upload';\n",
              "  const cancelPromise = new Promise((resolve) => {\n",
              "    cancel.onclick = () => {\n",
              "      resolve(null);\n",
              "    };\n",
              "  });\n",
              "\n",
              "  // Wait for the user to pick the files.\n",
              "  const files = yield {\n",
              "    promise: Promise.race([pickedPromise, cancelPromise]),\n",
              "    response: {\n",
              "      action: 'starting',\n",
              "    }\n",
              "  };\n",
              "\n",
              "  cancel.remove();\n",
              "\n",
              "  // Disable the input element since further picks are not allowed.\n",
              "  inputElement.disabled = true;\n",
              "\n",
              "  if (!files) {\n",
              "    return {\n",
              "      response: {\n",
              "        action: 'complete',\n",
              "      }\n",
              "    };\n",
              "  }\n",
              "\n",
              "  for (const file of files) {\n",
              "    const li = document.createElement('li');\n",
              "    li.append(span(file.name, {fontWeight: 'bold'}));\n",
              "    li.append(span(\n",
              "        `(${file.type || 'n/a'}) - ${file.size} bytes, ` +\n",
              "        `last modified: ${\n",
              "            file.lastModifiedDate ? file.lastModifiedDate.toLocaleDateString() :\n",
              "                                    'n/a'} - `));\n",
              "    const percent = span('0% done');\n",
              "    li.appendChild(percent);\n",
              "\n",
              "    outputElement.appendChild(li);\n",
              "\n",
              "    const fileDataPromise = new Promise((resolve) => {\n",
              "      const reader = new FileReader();\n",
              "      reader.onload = (e) => {\n",
              "        resolve(e.target.result);\n",
              "      };\n",
              "      reader.readAsArrayBuffer(file);\n",
              "    });\n",
              "    // Wait for the data to be ready.\n",
              "    let fileData = yield {\n",
              "      promise: fileDataPromise,\n",
              "      response: {\n",
              "        action: 'continue',\n",
              "      }\n",
              "    };\n",
              "\n",
              "    // Use a chunked sending to avoid message size limits. See b/62115660.\n",
              "    let position = 0;\n",
              "    do {\n",
              "      const length = Math.min(fileData.byteLength - position, MAX_PAYLOAD_SIZE);\n",
              "      const chunk = new Uint8Array(fileData, position, length);\n",
              "      position += length;\n",
              "\n",
              "      const base64 = btoa(String.fromCharCode.apply(null, chunk));\n",
              "      yield {\n",
              "        response: {\n",
              "          action: 'append',\n",
              "          file: file.name,\n",
              "          data: base64,\n",
              "        },\n",
              "      };\n",
              "\n",
              "      let percentDone = fileData.byteLength === 0 ?\n",
              "          100 :\n",
              "          Math.round((position / fileData.byteLength) * 100);\n",
              "      percent.textContent = `${percentDone}% done`;\n",
              "\n",
              "    } while (position < fileData.byteLength);\n",
              "  }\n",
              "\n",
              "  // All done.\n",
              "  yield {\n",
              "    response: {\n",
              "      action: 'complete',\n",
              "    }\n",
              "  };\n",
              "}\n",
              "\n",
              "scope.google = scope.google || {};\n",
              "scope.google.colab = scope.google.colab || {};\n",
              "scope.google.colab._files = {\n",
              "  _uploadFiles,\n",
              "  _uploadFilesContinue,\n",
              "};\n",
              "})(self);\n",
              "</script> "
            ]
          },
          "metadata": {}
        },
        {
          "output_type": "stream",
          "name": "stdout",
          "text": [
            "Saving kaggle.json to kaggle (1).json\n"
          ]
        },
        {
          "output_type": "execute_result",
          "data": {
            "text/plain": [
              "{'kaggle.json': b'{\"username\":\"divyamyneni123\",\"key\":\"2546107efd3aa943c0b742f6638a9937\"}'}"
            ]
          },
          "metadata": {},
          "execution_count": 7
        }
      ]
    },
    {
      "cell_type": "code",
      "source": [
        "! mkdir ~/.kaggle\n",
        "! cp kaggle.json ~/.kaggle/\n",
        "! chmod 600 ~/.kaggle/kaggle.json"
      ],
      "metadata": {
        "id": "7ENiygE6Gbgb",
        "colab": {
          "base_uri": "https://localhost:8080/"
        },
        "outputId": "5d8d05ad-4f9b-4465-ea06-f332519ecc1d"
      },
      "execution_count": 8,
      "outputs": [
        {
          "output_type": "stream",
          "name": "stdout",
          "text": [
            "mkdir: cannot create directory ‘/root/.kaggle’: File exists\n"
          ]
        }
      ]
    },
    {
      "cell_type": "code",
      "source": [
        "! kaggle datasets download -d nikbearbrown/tmnist-alphabet-94-characters\n"
      ],
      "metadata": {
        "colab": {
          "base_uri": "https://localhost:8080/"
        },
        "id": "FnFLaDJuGhIN",
        "outputId": "6960982e-1eb7-43b5-f889-c019b1554147"
      },
      "execution_count": 9,
      "outputs": [
        {
          "output_type": "stream",
          "name": "stdout",
          "text": [
            "tmnist-alphabet-94-characters.zip: Skipping, found more recently modified local copy (use --force to force download)\n"
          ]
        }
      ]
    },
    {
      "cell_type": "code",
      "source": [
        "!unzip tmnist-alphabet-94-characters.zip"
      ],
      "metadata": {
        "colab": {
          "base_uri": "https://localhost:8080/"
        },
        "id": "D1FmSCmqGpIQ",
        "outputId": "9d73aad0-82d1-4b04-ec86-f83e249ef88f"
      },
      "execution_count": 10,
      "outputs": [
        {
          "output_type": "stream",
          "name": "stdout",
          "text": [
            "Archive:  tmnist-alphabet-94-characters.zip\n",
            "replace 94_character_TMNIST.csv? [y]es, [n]o, [A]ll, [N]one, [r]ename: NO\n"
          ]
        }
      ]
    },
    {
      "cell_type": "markdown",
      "source": [
        "The TMNIST database contains a huge number of handwritten alphabets, numerals, and special characters that are often used to train various image processing systems. This database is commonly used in the field of machine learning for training and testing. I'll be utilizing a CNN (Convolutional Neural Network) deep learning technique with a functional model. The purpose of utilizing a functional model is to keep things simple when linking the layers."
      ],
      "metadata": {
        "id": "rXA5hdRo3WeG"
      }
    },
    {
      "cell_type": "code",
      "source": [
        "data = pd.read_csv(\"94_character_TMNIST.csv\")\n",
        "data.shape\n",
        "data.head()"
      ],
      "metadata": {
        "colab": {
          "base_uri": "https://localhost:8080/",
          "height": 236
        },
        "id": "BwLFYbpqG833",
        "outputId": "4075520e-05f3-4fc7-d7ba-597eab5bcde7"
      },
      "execution_count": 11,
      "outputs": [
        {
          "output_type": "execute_result",
          "data": {
            "text/plain": [
              "                  names labels    1    2    3    4    5    6    7    8  ...  \\\n",
              "0         Salsa-Regular      6  0.0  0.0  0.0  0.0  0.0  0.0  0.0  0.0  ...   \n",
              "1  MouseMemoirs-Regular      D  0.0  0.0  0.0  0.0  0.0  0.0  0.0  0.0  ...   \n",
              "2     Creepster-Regular      f  0.0  0.0  0.0  0.0  0.0  0.0  0.0  0.0  ...   \n",
              "3     SeoulNamsan-Light      /  0.0  0.0  0.0  0.0  0.0  0.0  0.0  0.0  ...   \n",
              "4  HachiMaruPop-Regular      F  0.0  0.0  0.0  0.0  0.0  0.0  0.0  0.0  ...   \n",
              "\n",
              "   775  776  777  778  779  780  781  782  783  784  \n",
              "0  0.0  0.0  0.0  0.0  0.0  0.0  0.0  0.0  0.0  0.0  \n",
              "1  0.0  0.0  0.0  0.0  0.0  0.0  0.0  0.0  0.0  0.0  \n",
              "2  0.0  0.0  0.0  0.0  0.0  0.0  0.0  0.0  0.0  0.0  \n",
              "3  0.0  0.0  0.0  0.0  0.0  0.0  0.0  0.0  0.0  0.0  \n",
              "4  0.0  0.0  0.0  0.0  0.0  0.0  0.0  0.0  0.0  0.0  \n",
              "\n",
              "[5 rows x 786 columns]"
            ],
            "text/html": [
              "\n",
              "  <div id=\"df-f12771e0-e160-4a41-9bd0-e4cab882598c\">\n",
              "    <div class=\"colab-df-container\">\n",
              "      <div>\n",
              "<style scoped>\n",
              "    .dataframe tbody tr th:only-of-type {\n",
              "        vertical-align: middle;\n",
              "    }\n",
              "\n",
              "    .dataframe tbody tr th {\n",
              "        vertical-align: top;\n",
              "    }\n",
              "\n",
              "    .dataframe thead th {\n",
              "        text-align: right;\n",
              "    }\n",
              "</style>\n",
              "<table border=\"1\" class=\"dataframe\">\n",
              "  <thead>\n",
              "    <tr style=\"text-align: right;\">\n",
              "      <th></th>\n",
              "      <th>names</th>\n",
              "      <th>labels</th>\n",
              "      <th>1</th>\n",
              "      <th>2</th>\n",
              "      <th>3</th>\n",
              "      <th>4</th>\n",
              "      <th>5</th>\n",
              "      <th>6</th>\n",
              "      <th>7</th>\n",
              "      <th>8</th>\n",
              "      <th>...</th>\n",
              "      <th>775</th>\n",
              "      <th>776</th>\n",
              "      <th>777</th>\n",
              "      <th>778</th>\n",
              "      <th>779</th>\n",
              "      <th>780</th>\n",
              "      <th>781</th>\n",
              "      <th>782</th>\n",
              "      <th>783</th>\n",
              "      <th>784</th>\n",
              "    </tr>\n",
              "  </thead>\n",
              "  <tbody>\n",
              "    <tr>\n",
              "      <th>0</th>\n",
              "      <td>Salsa-Regular</td>\n",
              "      <td>6</td>\n",
              "      <td>0.0</td>\n",
              "      <td>0.0</td>\n",
              "      <td>0.0</td>\n",
              "      <td>0.0</td>\n",
              "      <td>0.0</td>\n",
              "      <td>0.0</td>\n",
              "      <td>0.0</td>\n",
              "      <td>0.0</td>\n",
              "      <td>...</td>\n",
              "      <td>0.0</td>\n",
              "      <td>0.0</td>\n",
              "      <td>0.0</td>\n",
              "      <td>0.0</td>\n",
              "      <td>0.0</td>\n",
              "      <td>0.0</td>\n",
              "      <td>0.0</td>\n",
              "      <td>0.0</td>\n",
              "      <td>0.0</td>\n",
              "      <td>0.0</td>\n",
              "    </tr>\n",
              "    <tr>\n",
              "      <th>1</th>\n",
              "      <td>MouseMemoirs-Regular</td>\n",
              "      <td>D</td>\n",
              "      <td>0.0</td>\n",
              "      <td>0.0</td>\n",
              "      <td>0.0</td>\n",
              "      <td>0.0</td>\n",
              "      <td>0.0</td>\n",
              "      <td>0.0</td>\n",
              "      <td>0.0</td>\n",
              "      <td>0.0</td>\n",
              "      <td>...</td>\n",
              "      <td>0.0</td>\n",
              "      <td>0.0</td>\n",
              "      <td>0.0</td>\n",
              "      <td>0.0</td>\n",
              "      <td>0.0</td>\n",
              "      <td>0.0</td>\n",
              "      <td>0.0</td>\n",
              "      <td>0.0</td>\n",
              "      <td>0.0</td>\n",
              "      <td>0.0</td>\n",
              "    </tr>\n",
              "    <tr>\n",
              "      <th>2</th>\n",
              "      <td>Creepster-Regular</td>\n",
              "      <td>f</td>\n",
              "      <td>0.0</td>\n",
              "      <td>0.0</td>\n",
              "      <td>0.0</td>\n",
              "      <td>0.0</td>\n",
              "      <td>0.0</td>\n",
              "      <td>0.0</td>\n",
              "      <td>0.0</td>\n",
              "      <td>0.0</td>\n",
              "      <td>...</td>\n",
              "      <td>0.0</td>\n",
              "      <td>0.0</td>\n",
              "      <td>0.0</td>\n",
              "      <td>0.0</td>\n",
              "      <td>0.0</td>\n",
              "      <td>0.0</td>\n",
              "      <td>0.0</td>\n",
              "      <td>0.0</td>\n",
              "      <td>0.0</td>\n",
              "      <td>0.0</td>\n",
              "    </tr>\n",
              "    <tr>\n",
              "      <th>3</th>\n",
              "      <td>SeoulNamsan-Light</td>\n",
              "      <td>/</td>\n",
              "      <td>0.0</td>\n",
              "      <td>0.0</td>\n",
              "      <td>0.0</td>\n",
              "      <td>0.0</td>\n",
              "      <td>0.0</td>\n",
              "      <td>0.0</td>\n",
              "      <td>0.0</td>\n",
              "      <td>0.0</td>\n",
              "      <td>...</td>\n",
              "      <td>0.0</td>\n",
              "      <td>0.0</td>\n",
              "      <td>0.0</td>\n",
              "      <td>0.0</td>\n",
              "      <td>0.0</td>\n",
              "      <td>0.0</td>\n",
              "      <td>0.0</td>\n",
              "      <td>0.0</td>\n",
              "      <td>0.0</td>\n",
              "      <td>0.0</td>\n",
              "    </tr>\n",
              "    <tr>\n",
              "      <th>4</th>\n",
              "      <td>HachiMaruPop-Regular</td>\n",
              "      <td>F</td>\n",
              "      <td>0.0</td>\n",
              "      <td>0.0</td>\n",
              "      <td>0.0</td>\n",
              "      <td>0.0</td>\n",
              "      <td>0.0</td>\n",
              "      <td>0.0</td>\n",
              "      <td>0.0</td>\n",
              "      <td>0.0</td>\n",
              "      <td>...</td>\n",
              "      <td>0.0</td>\n",
              "      <td>0.0</td>\n",
              "      <td>0.0</td>\n",
              "      <td>0.0</td>\n",
              "      <td>0.0</td>\n",
              "      <td>0.0</td>\n",
              "      <td>0.0</td>\n",
              "      <td>0.0</td>\n",
              "      <td>0.0</td>\n",
              "      <td>0.0</td>\n",
              "    </tr>\n",
              "  </tbody>\n",
              "</table>\n",
              "<p>5 rows × 786 columns</p>\n",
              "</div>\n",
              "      <button class=\"colab-df-convert\" onclick=\"convertToInteractive('df-f12771e0-e160-4a41-9bd0-e4cab882598c')\"\n",
              "              title=\"Convert this dataframe to an interactive table.\"\n",
              "              style=\"display:none;\">\n",
              "        \n",
              "  <svg xmlns=\"http://www.w3.org/2000/svg\" height=\"24px\"viewBox=\"0 0 24 24\"\n",
              "       width=\"24px\">\n",
              "    <path d=\"M0 0h24v24H0V0z\" fill=\"none\"/>\n",
              "    <path d=\"M18.56 5.44l.94 2.06.94-2.06 2.06-.94-2.06-.94-.94-2.06-.94 2.06-2.06.94zm-11 1L8.5 8.5l.94-2.06 2.06-.94-2.06-.94L8.5 2.5l-.94 2.06-2.06.94zm10 10l.94 2.06.94-2.06 2.06-.94-2.06-.94-.94-2.06-.94 2.06-2.06.94z\"/><path d=\"M17.41 7.96l-1.37-1.37c-.4-.4-.92-.59-1.43-.59-.52 0-1.04.2-1.43.59L10.3 9.45l-7.72 7.72c-.78.78-.78 2.05 0 2.83L4 21.41c.39.39.9.59 1.41.59.51 0 1.02-.2 1.41-.59l7.78-7.78 2.81-2.81c.8-.78.8-2.07 0-2.86zM5.41 20L4 18.59l7.72-7.72 1.47 1.35L5.41 20z\"/>\n",
              "  </svg>\n",
              "      </button>\n",
              "      \n",
              "  <style>\n",
              "    .colab-df-container {\n",
              "      display:flex;\n",
              "      flex-wrap:wrap;\n",
              "      gap: 12px;\n",
              "    }\n",
              "\n",
              "    .colab-df-convert {\n",
              "      background-color: #E8F0FE;\n",
              "      border: none;\n",
              "      border-radius: 50%;\n",
              "      cursor: pointer;\n",
              "      display: none;\n",
              "      fill: #1967D2;\n",
              "      height: 32px;\n",
              "      padding: 0 0 0 0;\n",
              "      width: 32px;\n",
              "    }\n",
              "\n",
              "    .colab-df-convert:hover {\n",
              "      background-color: #E2EBFA;\n",
              "      box-shadow: 0px 1px 2px rgba(60, 64, 67, 0.3), 0px 1px 3px 1px rgba(60, 64, 67, 0.15);\n",
              "      fill: #174EA6;\n",
              "    }\n",
              "\n",
              "    [theme=dark] .colab-df-convert {\n",
              "      background-color: #3B4455;\n",
              "      fill: #D2E3FC;\n",
              "    }\n",
              "\n",
              "    [theme=dark] .colab-df-convert:hover {\n",
              "      background-color: #434B5C;\n",
              "      box-shadow: 0px 1px 3px 1px rgba(0, 0, 0, 0.15);\n",
              "      filter: drop-shadow(0px 1px 2px rgba(0, 0, 0, 0.3));\n",
              "      fill: #FFFFFF;\n",
              "    }\n",
              "  </style>\n",
              "\n",
              "      <script>\n",
              "        const buttonEl =\n",
              "          document.querySelector('#df-f12771e0-e160-4a41-9bd0-e4cab882598c button.colab-df-convert');\n",
              "        buttonEl.style.display =\n",
              "          google.colab.kernel.accessAllowed ? 'block' : 'none';\n",
              "\n",
              "        async function convertToInteractive(key) {\n",
              "          const element = document.querySelector('#df-f12771e0-e160-4a41-9bd0-e4cab882598c');\n",
              "          const dataTable =\n",
              "            await google.colab.kernel.invokeFunction('convertToInteractive',\n",
              "                                                     [key], {});\n",
              "          if (!dataTable) return;\n",
              "\n",
              "          const docLinkHtml = 'Like what you see? Visit the ' +\n",
              "            '<a target=\"_blank\" href=https://colab.research.google.com/notebooks/data_table.ipynb>data table notebook</a>'\n",
              "            + ' to learn more about interactive tables.';\n",
              "          element.innerHTML = '';\n",
              "          dataTable['output_type'] = 'display_data';\n",
              "          await google.colab.output.renderOutput(dataTable, element);\n",
              "          const docLink = document.createElement('div');\n",
              "          docLink.innerHTML = docLinkHtml;\n",
              "          element.appendChild(docLink);\n",
              "        }\n",
              "      </script>\n",
              "    </div>\n",
              "  </div>\n",
              "  "
            ]
          },
          "metadata": {},
          "execution_count": 11
        }
      ]
    },
    {
      "cell_type": "code",
      "source": [
        "#Dataset Characteristics\n",
        "print(f\"The Shape of the Dataset is: {data.shape}\")\n",
        "print(f\"Number of Samples: {data.shape[0]}\")\n",
        "print(f\"Number of Features: {data.shape[1]}\")"
      ],
      "metadata": {
        "colab": {
          "base_uri": "https://localhost:8080/"
        },
        "id": "6WDePrqEHRZ0",
        "outputId": "bc09c874-b303-4258-f9f6-369d0d0c8b5e"
      },
      "execution_count": 13,
      "outputs": [
        {
          "output_type": "stream",
          "name": "stdout",
          "text": [
            "The Shape of the Dataset is: (274093, 786)\n",
            "Number of Samples: 274093\n",
            "Number of Features: 786\n"
          ]
        }
      ]
    },
    {
      "cell_type": "code",
      "source": [
        "# Number of unique character in the Dataframe\n",
        "num_unique_chars = len(data.labels.unique())\n",
        "print(f\"Number of unique character present in the Dataset: {num_unique_chars}\")"
      ],
      "metadata": {
        "colab": {
          "base_uri": "https://localhost:8080/"
        },
        "id": "SnNgrTMKHWaG",
        "outputId": "5810976d-5ec2-415c-9dbb-3b7abffd2e1d"
      },
      "execution_count": 14,
      "outputs": [
        {
          "output_type": "stream",
          "name": "stdout",
          "text": [
            "Number of unique character present in the Dataset: 94\n"
          ]
        }
      ]
    },
    {
      "cell_type": "code",
      "source": [
        "#All Unique Chars\n",
        "all_unique_chars = list(data.labels.unique())\n",
        "print(all_unique_chars)"
      ],
      "metadata": {
        "colab": {
          "base_uri": "https://localhost:8080/"
        },
        "id": "xVDblNa2HZI2",
        "outputId": "df46ac3e-812e-42c1-cc8f-7e71329b801c"
      },
      "execution_count": 15,
      "outputs": [
        {
          "output_type": "stream",
          "name": "stdout",
          "text": [
            "['6', 'D', 'f', '/', 'F', 'x', 'J', '8', 'H', 'k', '@', '1', '=', 'g', ')', '2', 'd', '^', '3', 't', '#', '.', '4', 'o', '\"', 'y', 'A', 'u', 'G', '-', 'm', 'W', '&', 'c', '9', 'N', ']', 'P', 'X', '|', '}', 'h', '7', 'j', '5', '>', '?', 'b', '*', 'w', 'l', '0', '$', 'I', 'Y', '%', ':', 'T', 'K', 'E', '<', 'V', '{', 'M', 'S', 'a', 'i', 'r', \"'\", 'p', ';', '[', '+', 'e', 'U', '(', 's', '~', ',', 'C', 'q', '_', 'n', 'B', 'z', 'v', 'O', 'R', '`', 'Z', 'Q', 'L', '!', '\\\\']\n"
          ]
        }
      ]
    },
    {
      "cell_type": "code",
      "source": [
        "#Drop redundant coloums (names and labels), retain only pixel values\n",
        "x = data.drop(columns=['names','labels']).values\n",
        "y = data[['labels']].values #Assigning Classes"
      ],
      "metadata": {
        "id": "3JIdhcyEHfiG"
      },
      "execution_count": 16,
      "outputs": []
    },
    {
      "cell_type": "code",
      "source": [
        "#Convert NumPy array to Pandas Dataframe for ease of processing downstream and triaging\n",
        "df_x = pd.DataFrame(x)\n",
        "df_y = pd.DataFrame(y)\n",
        "#df_x.head()\n",
        "#df_y.head()"
      ],
      "metadata": {
        "id": "249SV57eU8BD"
      },
      "execution_count": 17,
      "outputs": []
    },
    {
      "cell_type": "code",
      "source": [
        "import matplotlib.pyplot as plt\n",
        "\n",
        "x_images = x.reshape(-1,28,28)\n",
        "fig,axs = plt.subplots(3,4,figsize=(10,10))\n",
        "for i in range(12):\n",
        "    r=i//4\n",
        "    c=i%4\n",
        "    axs[r][c].set_xticks([])\n",
        "    axs[r][c].set_yticks([])\n",
        "    axs[r][c].imshow(x_images[i])\n",
        "plt.show()"
      ],
      "metadata": {
        "colab": {
          "base_uri": "https://localhost:8080/",
          "height": 749
        },
        "id": "iR8eTcXSHj6F",
        "outputId": "fba48c42-4060-4755-dca6-a7ee847e8827"
      },
      "execution_count": 18,
      "outputs": [
        {
          "output_type": "display_data",
          "data": {
            "text/plain": [
              "<Figure size 1000x1000 with 12 Axes>"
            ],
            "image/png": "[encoded data removed]"
          },
          "metadata": {}
        }
      ]
    },
    {
      "cell_type": "markdown",
      "source": [
        "Here, we can see that the dataset consists various uppercase and lowercase characters along with numbers/ digits both in english. It also contains various special characters eg. @ and = .\n",
        "\n",
        "In this notebook, the aim is to classify the images from TMNIST dataset using Convolutional Neural Network approach (CNN). **I will be using a deep learning algorithm, Convolutional Neural Networks (CNNs) with a functional model. It is one of the best architectures that is being widely used for classifying images. The reason for using a functional model is to maintain easiness while connecting the layers. Convolutional Neural Networks (CNNs) is one of the best architectures that is being used widely for classifying images. CNNs are used for pattern matching or image detection everywhere in several fields like facial recognition, self-driving cars, object detection, fashion etc. For this project, I will be designing a 2-D Convolutional Neural Network model using keras with tensorflow backend for MNIST digit recognition task. The workflow will look like\n",
        "\n",
        "Preparing the dataset to work on\n",
        "Building and compilation of the model\n",
        "Training and evaluating the model**"
      ],
      "metadata": {
        "id": "nqvHYbd83i5S"
      }
    },
    {
      "cell_type": "code",
      "source": [
        "#Split dataset into Train & Test @ 80% and 20% spread respectively\n",
        "X_train, X_test, y_train, y_test = train_test_split(df_x, df_y, test_size=0.2)"
      ],
      "metadata": {
        "id": "T3j61NfMTawo"
      },
      "execution_count": 19,
      "outputs": []
    },
    {
      "cell_type": "code",
      "source": [
        "#Shape of training Data\n",
        "print(f'X:Train, Test data shape:{X_train.shape},{X_test.shape}')\n",
        "print(f'Y:Train, Test data shape:{y_train.shape},{y_test.shape}')"
      ],
      "metadata": {
        "colab": {
          "base_uri": "https://localhost:8080/"
        },
        "id": "7A8hZjE9VDOb",
        "outputId": "4576d6ae-ad5c-4eb2-b65a-12a391f3c8ff"
      },
      "execution_count": 20,
      "outputs": [
        {
          "output_type": "stream",
          "name": "stdout",
          "text": [
            "X:Train, Test data shape:(219274, 784),(54819, 784)\n",
            "Y:Train, Test data shape:(219274, 1),(54819, 1)\n"
          ]
        }
      ]
    },
    {
      "cell_type": "code",
      "source": [
        "#the pixel values are from 0-255, normalizing the dataset for neural network models, converting them to values between 0-1 \n",
        "X_train= (X_train.astype('float32'))/255.0\n",
        "X_test = (X_test.astype('float32'))/255.0"
      ],
      "metadata": {
        "id": "t61yjo4pVOui"
      },
      "execution_count": 21,
      "outputs": []
    },
    {
      "cell_type": "code",
      "source": [
        "#encoding the y values\n",
        "char_enc = OneHotEncoder(sparse=False,handle_unknown='ignore')\n",
        "y_train_encoded= char_enc.fit_transform(y_train.values.reshape(-1,1))\n",
        "y_test_encoded=  char_enc.transform(y_test.values.reshape(-1,1))"
      ],
      "metadata": {
        "id": "zIXGzQsmVTYz"
      },
      "execution_count": 22,
      "outputs": []
    },
    {
      "cell_type": "code",
      "source": [
        "X_train_norm=X_train.values.reshape(X_train.shape[0],28,28)\n",
        "X_test_norm=X_test.values.reshape(X_test.shape[0],28,28)"
      ],
      "metadata": {
        "id": "1WgajJ-UVWfy"
      },
      "execution_count": 23,
      "outputs": []
    },
    {
      "cell_type": "code",
      "source": [
        "#ModelDefinition\n",
        "model = Sequential()\n",
        "model.add(Flatten(input_shape=(28,28)))\n",
        "model.add(Dense(512,activation='relu'))\n",
        "model.add(Dense(128,activation='relu'))\n",
        "model.add(Dense(32, activation='relu'))\n",
        "model.add(Dense(num_unique_chars, activation='softmax'))\n",
        "opt = Adam()\n",
        "model.compile(optimizer=opt, loss='categorical_crossentropy', metrics=['accuracy'])\n",
        "model.summary()"
      ],
      "metadata": {
        "colab": {
          "base_uri": "https://localhost:8080/"
        },
        "id": "U-IgmG1IVaEP",
        "outputId": "0bc86069-cc01-43d0-e632-910eaed0d89d"
      },
      "execution_count": 24,
      "outputs": [
        {
          "output_type": "stream",
          "name": "stdout",
          "text": [
            "Model: \"sequential\"\n",
            "_________________________________________________________________\n",
            " Layer (type)                Output Shape              Param #   \n",
            "=================================================================\n",
            " flatten (Flatten)           (None, 784)               0         \n",
            "                                                                 \n",
            " dense (Dense)               (None, 512)               401920    \n",
            "                                                                 \n",
            " dense_1 (Dense)             (None, 128)               65664     \n",
            "                                                                 \n",
            " dense_2 (Dense)             (None, 32)                4128      \n",
            "                                                                 \n",
            " dense_3 (Dense)             (None, 94)                3102      \n",
            "                                                                 \n",
            "=================================================================\n",
            "Total params: 474,814\n",
            "Trainable params: 474,814\n",
            "Non-trainable params: 0\n",
            "_________________________________________________________________\n"
          ]
        }
      ]
    },
    {
      "cell_type": "code",
      "source": [
        "#Fitting the basic model\n",
        "model_history=model.fit(X_train_norm, y_train_encoded, epochs=20, validation_data=(X_test_norm, y_test_encoded), verbose=2,batch_size=140)"
      ],
      "metadata": {
        "colab": {
          "base_uri": "https://localhost:8080/"
        },
        "id": "jhPtva0dZE5r",
        "outputId": "91bd6f9b-a4fd-403d-da4b-6cab0358cf2a"
      },
      "execution_count": 26,
      "outputs": [
        {
          "output_type": "stream",
          "name": "stdout",
          "text": [
            "Epoch 1/20\n",
            "1567/1567 - 19s - loss: 0.8203 - accuracy: 0.7858 - val_loss: 0.4985 - val_accuracy: 0.8540 - 19s/epoch - 12ms/step\n",
            "Epoch 2/20\n",
            "1567/1567 - 16s - loss: 0.4434 - accuracy: 0.8648 - val_loss: 0.4369 - val_accuracy: 0.8636 - 16s/epoch - 10ms/step\n",
            "Epoch 3/20\n",
            "1567/1567 - 16s - loss: 0.3731 - accuracy: 0.8804 - val_loss: 0.3785 - val_accuracy: 0.8848 - 16s/epoch - 10ms/step\n",
            "Epoch 4/20\n",
            "1567/1567 - 16s - loss: 0.3276 - accuracy: 0.8925 - val_loss: 0.3651 - val_accuracy: 0.8869 - 16s/epoch - 10ms/step\n",
            "Epoch 5/20\n",
            "1567/1567 - 18s - loss: 0.2960 - accuracy: 0.9013 - val_loss: 0.3472 - val_accuracy: 0.8934 - 18s/epoch - 11ms/step\n",
            "Epoch 6/20\n",
            "1567/1567 - 17s - loss: 0.2678 - accuracy: 0.9089 - val_loss: 0.3393 - val_accuracy: 0.8964 - 17s/epoch - 11ms/step\n",
            "Epoch 7/20\n",
            "1567/1567 - 15s - loss: 0.2469 - accuracy: 0.9145 - val_loss: 0.3351 - val_accuracy: 0.8989 - 15s/epoch - 10ms/step\n",
            "Epoch 8/20\n",
            "1567/1567 - 18s - loss: 0.2298 - accuracy: 0.9205 - val_loss: 0.3379 - val_accuracy: 0.8994 - 18s/epoch - 11ms/step\n",
            "Epoch 9/20\n",
            "1567/1567 - 15s - loss: 0.2148 - accuracy: 0.9250 - val_loss: 0.3350 - val_accuracy: 0.9028 - 15s/epoch - 10ms/step\n",
            "Epoch 10/20\n",
            "1567/1567 - 17s - loss: 0.2017 - accuracy: 0.9291 - val_loss: 0.3435 - val_accuracy: 0.9018 - 17s/epoch - 11ms/step\n",
            "Epoch 11/20\n",
            "1567/1567 - 18s - loss: 0.1908 - accuracy: 0.9319 - val_loss: 0.3295 - val_accuracy: 0.9067 - 18s/epoch - 11ms/step\n",
            "Epoch 12/20\n",
            "1567/1567 - 16s - loss: 0.1817 - accuracy: 0.9349 - val_loss: 0.3465 - val_accuracy: 0.9028 - 16s/epoch - 10ms/step\n",
            "Epoch 13/20\n",
            "1567/1567 - 16s - loss: 0.1743 - accuracy: 0.9373 - val_loss: 0.3313 - val_accuracy: 0.9088 - 16s/epoch - 10ms/step\n",
            "Epoch 14/20\n",
            "1567/1567 - 16s - loss: 0.1678 - accuracy: 0.9391 - val_loss: 0.3457 - val_accuracy: 0.9078 - 16s/epoch - 10ms/step\n",
            "Epoch 15/20\n",
            "1567/1567 - 16s - loss: 0.1604 - accuracy: 0.9419 - val_loss: 0.3489 - val_accuracy: 0.9100 - 16s/epoch - 10ms/step\n",
            "Epoch 16/20\n",
            "1567/1567 - 16s - loss: 0.1549 - accuracy: 0.9437 - val_loss: 0.3566 - val_accuracy: 0.9084 - 16s/epoch - 10ms/step\n",
            "Epoch 17/20\n",
            "1567/1567 - 16s - loss: 0.1502 - accuracy: 0.9452 - val_loss: 0.3611 - val_accuracy: 0.9095 - 16s/epoch - 10ms/step\n",
            "Epoch 18/20\n",
            "1567/1567 - 16s - loss: 0.1458 - accuracy: 0.9462 - val_loss: 0.3795 - val_accuracy: 0.9046 - 16s/epoch - 10ms/step\n",
            "Epoch 19/20\n",
            "1567/1567 - 17s - loss: 0.1414 - accuracy: 0.9476 - val_loss: 0.3885 - val_accuracy: 0.9067 - 17s/epoch - 11ms/step\n",
            "Epoch 20/20\n",
            "1567/1567 - 15s - loss: 0.1374 - accuracy: 0.9492 - val_loss: 0.3841 - val_accuracy: 0.9110 - 15s/epoch - 10ms/step\n"
          ]
        }
      ]
    },
    {
      "cell_type": "code",
      "source": [
        "#Evaluating model accuracy on test data\n",
        "score = model.evaluate(X_test_norm, y_test_encoded,verbose=2)\n",
        "print(f\"Test Accuracy:{round(score[1],4)*100}%\")"
      ],
      "metadata": {
        "colab": {
          "base_uri": "https://localhost:8080/"
        },
        "id": "nHtcjsxfxwR-",
        "outputId": "f57975b0-902a-4069-b579-cb44d1f32d40"
      },
      "execution_count": 27,
      "outputs": [
        {
          "output_type": "stream",
          "name": "stdout",
          "text": [
            "1714/1714 - 6s - loss: 0.3841 - accuracy: 0.9110 - 6s/epoch - 4ms/step\n",
            "Test Accuracy:91.10000000000001%\n"
          ]
        }
      ]
    },
    {
      "cell_type": "code",
      "source": [
        "#Plotting Results\n",
        "plt.figure(figsize=(14, 6))\n",
        "plt.subplot(1,2,1)\n",
        "epochs=np.arange(20)\n",
        "plt.title('Accuracy vs Epochs')\n",
        "plt.plot(epochs,model_history.history['accuracy'],label='train')\n",
        "plt.ylabel('Accuracy')\n",
        "plt.plot(epochs,model_history.history['val_accuracy'],label='test')\n",
        "plt.legend()\n",
        "plt.subplot(1,2,2)\n",
        "plt.title('Loss vs Epochs')\n",
        "plt.plot(epochs,model_history.history['loss'],label='train')\n",
        "plt.ylabel('Loss')\n",
        "plt.plot(epochs,model_history.history['val_loss'],label='test')\n",
        "plt.legend()\n",
        "plt.show()"
      ],
      "metadata": {
        "colab": {
          "base_uri": "https://localhost:8080/",
          "height": 545
        },
        "id": "VT-5g90HVoTU",
        "outputId": "001dabcc-4eaa-4ab1-f358-51cf553a81f5"
      },
      "execution_count": 28,
      "outputs": [
        {
          "output_type": "display_data",
          "data": {
            "text/plain": [
              "<Figure size 1400x600 with 2 Axes>"
            ],
            "image/png": "[encoded data removed]"
          },
          "metadata": {}
        }
      ]
    },
    {
      "cell_type": "code",
      "source": [
        "cnn_model = Sequential()\n",
        "cnn_model.add(Conv2D(128, (5, 5), activation='relu', input_shape=(28, 28,1)))\n",
        "cnn_model.add(MaxPooling2D((2, 2)))\n",
        "cnn_model.add(Conv2D(64, (3, 3), activation='relu'))\n",
        "cnn_model.add(MaxPooling2D((2, 2)))\n",
        "cnn_model.add(Flatten())\n",
        "cnn_model.add(Dense(64, activation='relu'))\n",
        "cnn_model.add(Dense(32, activation='relu'))\n",
        "cnn_model.add(Dense(num_unique_chars, activation='softmax'))\n",
        "opt = Adam()\n",
        "cnn_model.compile(optimizer=opt, loss='categorical_crossentropy', metrics=['accuracy'])\n",
        "cnn_model.summary()"
      ],
      "metadata": {
        "colab": {
          "base_uri": "https://localhost:8080/"
        },
        "id": "h_JWOah3Vqe7",
        "outputId": "a30d408a-0048-401f-ef29-f847c0c18357"
      },
      "execution_count": 29,
      "outputs": [
        {
          "output_type": "stream",
          "name": "stdout",
          "text": [
            "Model: \"sequential_1\"\n",
            "_________________________________________________________________\n",
            " Layer (type)                Output Shape              Param #   \n",
            "=================================================================\n",
            " conv2d (Conv2D)             (None, 24, 24, 128)       3328      \n",
            "                                                                 \n",
            " max_pooling2d (MaxPooling2D  (None, 12, 12, 128)      0         \n",
            " )                                                               \n",
            "                                                                 \n",
            " conv2d_1 (Conv2D)           (None, 10, 10, 64)        73792     \n",
            "                                                                 \n",
            " max_pooling2d_1 (MaxPooling  (None, 5, 5, 64)         0         \n",
            " 2D)                                                             \n",
            "                                                                 \n",
            " flatten_1 (Flatten)         (None, 1600)              0         \n",
            "                                                                 \n",
            " dense_4 (Dense)             (None, 64)                102464    \n",
            "                                                                 \n",
            " dense_5 (Dense)             (None, 32)                2080      \n",
            "                                                                 \n",
            " dense_6 (Dense)             (None, 94)                3102      \n",
            "                                                                 \n",
            "=================================================================\n",
            "Total params: 184,766\n",
            "Trainable params: 184,766\n",
            "Non-trainable params: 0\n",
            "_________________________________________________________________\n"
          ]
        }
      ]
    },
    {
      "cell_type": "code",
      "source": [
        "#normalizing data for CNN model\n",
        "X_train_norm=X_train_norm.reshape((X_train_norm.shape[0],28,28,1))\n",
        "X_test_norm=X_test_norm.reshape((X_test_norm.shape[0],28,28,1))"
      ],
      "metadata": {
        "id": "8shAiDGLVt_C"
      },
      "execution_count": 30,
      "outputs": []
    },
    {
      "cell_type": "code",
      "source": [
        "#fitting the model\n",
        "model_history2=cnn_model.fit(X_train_norm, y_train_encoded, epochs=15, validation_data=(X_test_norm, y_test_encoded), verbose=2,batch_size=128)"
      ],
      "metadata": {
        "id": "LvLcdNgmVwRH"
      },
      "execution_count": null,
      "outputs": []
    },
    {
      "cell_type": "code",
      "source": [
        "#Plotting Results\n",
        "plt.figure(figsize=(14, 6))\n",
        "plt.subplot(1,2,1)\n",
        "epochs=np.arange(20)\n",
        "plt.title('Accuracy vs Epochs')\n",
        "plt.plot(epochs,model_history.history['accuracy'],label='train')\n",
        "plt.ylabel('Accuracy')\n",
        "plt.plot(epochs,model_history.history['val_accuracy'],label='test')\n",
        "plt.legend()\n",
        "plt.subplot(1,2,2)\n",
        "plt.title('Loss vs Epochs')\n",
        "plt.plot(epochs,model_history.history['loss'],label='train')\n",
        "plt.ylabel('Loss')\n",
        "plt.plot(epochs,model_history.history['val_loss'],label='test')\n",
        "plt.legend()\n",
        "plt.show()"
      ],
      "metadata": {
        "id": "j6ZUjP93Vz-Z",
        "colab": {
          "base_uri": "https://localhost:8080/",
          "height": 545
        },
        "outputId": "58d846f7-f617-4b8e-8c24-d52ddd17ce77"
      },
      "execution_count": 32,
      "outputs": [
        {
          "output_type": "display_data",
          "data": {
            "text/plain": [
              "<Figure size 1400x600 with 2 Axes>"
            ],
            "image/png": "[encoded data removed]"
          },
          "metadata": {}
        }
      ]
    },
    {
      "cell_type": "markdown",
      "source": [
        "References\n",
        "\n",
        "https://www.kaggle.com/code/rushabhfegade/tmnist-glyphs\n",
        "\n",
        "\n",
        "https://towardsdatascience.com/convolutional-neural-networks-explained-9cc5188c4939\n",
        "\n",
        "\n",
        "Copyright (C) <2023> Divya Myneni\n",
        "\n",
        "Permission is hereby granted, free of charge, to any person obtaining a copy of this software and associated documentation files (the \"Software\"), to deal in the Software without restriction, including without limitation the rights to use, copy, modify, merge, publish, distribute, sublicense, and/or sell copies of the Software, and to permit persons to whom the Software is furnished to do so, subject to the following conditions:\n",
        "\n",
        "The above copyright notice and this permission notice shall be included in all copies or substantial portions of the Software.\n",
        "\n",
        "THE SOFTWARE IS PROVIDED \"AS IS\", WITHOUT WARRANTY OF ANY KIND, EXPRESS OR IMPLIED, INCLUDING BUT NOT LIMITED TO THE WARRANTIES OF MERCHANTABILITY, FITNESS FOR A PARTICULAR PURPOSE AND NONINFRINGEMENT. IN NO EVENT SHALL THE AUTHORS OR COPYRIGHT HOLDERS BE LIABLE FOR ANY CLAIM, DAMAGES OR OTHER LIABILITY, WHETHER IN AN ACTION OF CONTRACT, TORT OR OTHERWISE, ARISING FROM, OUT OF OR IN CONNECTION WITH THE SOFTWARE OR THE USE OR OTHER DEALINGS IN THE SOFTWARE"
      ],
      "metadata": {
        "id": "svxFBDKo0BXd"
      }
    }
  ]
}